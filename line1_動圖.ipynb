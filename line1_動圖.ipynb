{
 "cells": [
  {
   "cell_type": "code",
   "execution_count": 1,
   "id": "0b2b009a-b3b9-443c-9ab8-3ceb765c348c",
   "metadata": {},
   "outputs": [
    {
     "name": "stdout",
     "output_type": "stream",
     "text": [
      "貼圖 ID: 614381950\n",
      "貼圖 ID: 614381951\n",
      "貼圖 ID: 614381952\n",
      "貼圖 ID: 614381953\n",
      "貼圖 ID: 614381954\n",
      "貼圖 ID: 614381955\n",
      "貼圖 ID: 614381956\n",
      "貼圖 ID: 614381957\n",
      "貼圖 ID: 614381958\n",
      "貼圖 ID: 614381959\n",
      "貼圖 ID: 614381960\n",
      "貼圖 ID: 614381961\n",
      "貼圖 ID: 614381962\n",
      "貼圖 ID: 614381963\n",
      "貼圖 ID: 614381964\n",
      "貼圖 ID: 614381965\n",
      "貼圖 ID: 614381966\n",
      "貼圖 ID: 614381967\n",
      "貼圖 ID: 614381968\n",
      "貼圖 ID: 614381969\n",
      "貼圖 ID: 614381970\n",
      "貼圖 ID: 614381971\n",
      "貼圖 ID: 614381972\n",
      "貼圖 ID: 614381973\n"
     ]
    }
   ],
   "source": [
    "import requests as req\n",
    "import os, json\n",
    "from bs4 import BeautifulSoup as bs\n",
    "from pprint import pprint\n",
    "\n",
    "# 建立儲存圖片的資料夾，不存在就新增\n",
    "folderPath = 'line_stickers'\n",
    "if not os.path.exists(folderPath):\n",
    "    os.makedirs(folderPath)\n",
    "\n",
    "#放貼圖資訊用\n",
    "list_line_stickers = []\n",
    "\n",
    "# 官方 LINE 貼圖的網址\n",
    "url = 'https://store.line.me/stickershop/product/29143/zh-Hant'\n",
    "\n",
    "# 將自訂標頭加入 GET 請求中\n",
    "res = req.get(url)\n",
    "\n",
    "# 建立 soup 物件\n",
    "soup = bs(res.text, 'lxml')\n",
    "\n",
    "# 取得放置貼圖的 li 元素 (list 型態)\n",
    "li_elements = soup.select('ul.mdCMN09Ul.FnStickerList > li.mdCMN09Li.FnStickerPreviewItem')\n",
    "\n",
    "# 逐一取得 li 元素中的 data-preview 資訊\n",
    "for li in li_elements:\n",
    "    # 取得 data-preview 屬性的值(字串)\n",
    "    strJson = li['data-preview']\n",
    "\n",
    "    #把屬性的值(字串)轉成物件 \n",
    "    obj = json.loads(strJson)\n",
    "\n",
    "    # 將重要資訊放置在 list 當中，幫助我們稍候進行資料下載與儲存\n",
    "    list_line_stickers.append(obj)\n",
    "\n",
    "# 下載圖片\n",
    "for obj in list_line_stickers:\n",
    "    os.system (f\"curl -k {obj['staticUrl']} -o {folderPath}/{obj['id']}.png\")\n",
    "    print(f\"貼圖 ID: {obj['id']}\")"
   ]
  },
  {
   "cell_type": "code",
   "execution_count": null,
   "id": "376e54ac-c0ff-4e9b-929a-bae92936c733",
   "metadata": {},
   "outputs": [],
   "source": []
  }
 ],
 "metadata": {
  "kernelspec": {
   "display_name": "Python3@ws",
   "language": "python",
   "name": "ws"
  },
  "language_info": {
   "codemirror_mode": {
    "name": "ipython",
    "version": 3
   },
   "file_extension": ".py",
   "mimetype": "text/x-python",
   "name": "python",
   "nbconvert_exporter": "python",
   "pygments_lexer": "ipython3",
   "version": "3.10.14"
  }
 },
 "nbformat": 4,
 "nbformat_minor": 5
}
