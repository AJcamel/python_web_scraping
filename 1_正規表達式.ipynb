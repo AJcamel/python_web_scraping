{
 "cells": [
  {
   "cell_type": "code",
   "execution_count": 2,
   "id": "2f9fe19e-d118-4226-9ac2-6479548cf2a0",
   "metadata": {},
   "outputs": [],
   "source": [
    "# 匯入 regex 套件\n",
    "import re"
   ]
  },
  {
   "cell_type": "code",
   "execution_count": 5,
   "id": "4aa4a500-43f7-42c5-845c-0a61df3687ce",
   "metadata": {},
   "outputs": [
    {
     "name": "stdout",
     "output_type": "stream",
     "text": [
      "2024/09/18\n",
      "18\n",
      "2024/09/18\n",
      "18\n"
     ]
    }
   ],
   "source": [
    "# match\n",
    "'''\n",
    "說明\n",
    "re.match 會從字串的「開頭」開始比對，\n",
    "比對不到，則回傳 None\n",
    "'''\n",
    "reg01 = r'2[0-9]{3}\\/[0-1]?[0-9]{1}\\/([0-3]?[0-9])'\n",
    "str01 = \"2024/09/18\"\n",
    "match01 = re.search(reg01, str01)\n",
    "print(match01[0])\n",
    "print(match01[1])\n",
    "'''\n",
    "補充:\n",
    "match.group() 或 match.group(0) 是regex所代表的整個完整比對的字串，\n",
    "match.group(1)是第一組()中的內容，\n",
    "match.group(2)是第二組()中的內容...\n",
    "'''\n",
    "print(match01.group(0))\n",
    "print(match01.group(1))"
   ]
  },
  {
   "cell_type": "code",
   "execution_count": 7,
   "id": "a4ae40e6-c32e-45be-b46c-567d324dcfbd",
   "metadata": {},
   "outputs": [
    {
     "name": "stdout",
     "output_type": "stream",
     "text": [
      "['0911111111', '0922222222', '0933333333']\n",
      "0911111111\n",
      "0933333333\n"
     ]
    }
   ],
   "source": [
    "# findall\n",
    "'''\n",
    "說明\n",
    "re.findall 會將所有配對到的字串\n",
    "回傳成一個 list\n",
    "'''\n",
    "reg02 = r'[0-9]+'\n",
    "str02 = \"0911111111, 0922222222, 0933333333\"\n",
    "list02 = re.findall(reg02, str02)\n",
    "print(list02)\n",
    "print(list02[0])\n",
    "print(list02[2])"
   ]
  },
  {
   "cell_type": "code",
   "execution_count": 8,
   "id": "f6abef9b-9a4c-4cab-87dd-e2a8f8eaa4f8",
   "metadata": {},
   "outputs": [
    {
     "name": "stdout",
     "output_type": "stream",
     "text": [
      "0911111111\n",
      "0922222222\n",
      "0933333333\n"
     ]
    }
   ],
   "source": [
    "# finditer\n",
    "'''\n",
    "說明\n",
    "re.finditer 會將所有配對到的字串\n",
    "以迭代的方式呈現，若沒有配對到，則回傳 None\n",
    "'''\n",
    "reg03 = r'[0-9]+'\n",
    "str03 = \"0911111111, 0922222222, 0933333333\"\n",
    "iter03 = re.finditer(reg03, str03)\n",
    "if iter03 != None:\n",
    "    for match in iter03:\n",
    "        print(match[0])\n",
    "        "
   ]
  },
  {
   "cell_type": "code",
   "execution_count": 9,
   "id": "73955c23-70a9-471c-a935-38a513f5542e",
   "metadata": {},
   "outputs": [
    {
     "name": "stdout",
     "output_type": "stream",
     "text": [
      "<re.Match object; span=(0, 10), match='A123456789'>\n",
      "A123456789\n",
      "1\n"
     ]
    }
   ],
   "source": [
    "# search\n",
    "'''\n",
    "說明\n",
    "re.search 會將整個字串進行搜尋，\n",
    "但只會比對到第一組，\n",
    "比對不到，則回傳 None\n",
    "'''\n",
    "reg04 = r'[a-zA-Z]([12])\\d{8}'\n",
    "str04 = \"A123456789\"\n",
    "match04 = re.search(reg04, str04)\n",
    "print(match04)\n",
    "print(match04[0])\n",
    "print(match04[1])"
   ]
  },
  {
   "cell_type": "code",
   "execution_count": 11,
   "id": "5a65aad3-5801-4fc7-937b-9a0c8fd1b8b7",
   "metadata": {},
   "outputs": [
    {
     "name": "stdout",
     "output_type": "stream",
     "text": [
      "['One', 'Two', 'Three', 'Four', '']\n"
     ]
    }
   ],
   "source": [
    "# split\n",
    "'''\n",
    "說明\n",
    "re.split 類似 string.split('separator')，\n",
    "只是用正規表達式來作為 separator，\n",
    "並回傳 list\n",
    "'''\n",
    "reg05 = r'\\d'\n",
    "str05 = \"One1Two2Three3Four4\"\n",
    "list05 = re.split(reg05, str05)\n",
    "print(list05)"
   ]
  },
  {
   "cell_type": "code",
   "execution_count": 12,
   "id": "cad5d99b-ab29-458f-9bee-5232d4ce005f",
   "metadata": {},
   "outputs": [
    {
     "name": "stdout",
     "output_type": "stream",
     "text": [
      "5201314\n"
     ]
    }
   ],
   "source": [
    "# sub\n",
    "'''\n",
    "說明\n",
    "re.sub(regex, replace_string, test_string)\n",
    "將 regex 所代表的文字，改成 replace_string，文字來源是 test_string\n",
    "'''\n",
    "reg06 = r'\\D'\n",
    "str06 = \"5-20 #1314\"\n",
    "str = re.sub(reg06, \"\", str06)\n",
    "print(str)"
   ]
  },
  {
   "cell_type": "code",
   "execution_count": 13,
   "id": "628cda51-2f8b-4915-bd0e-5e23cf17c2d0",
   "metadata": {},
   "outputs": [
    {
     "name": "stdout",
     "output_type": "stream",
     "text": [
      "一天一蘋果醫生遠離我。An apple a day keeps the doctor away.\n"
     ]
    }
   ],
   "source": [
    "# 環視 (例如去除中文字旁邊的空白)\n",
    "reg08 = r'\\s(?![a-zA-Z])'\n",
    "string08 = \"一 天 一 蘋 果 醫 生 遠 離 我。An apple a day keeps the doctor away.\"\n",
    "print(re.sub(reg08, '', string08))"
   ]
  },
  {
   "cell_type": "code",
   "execution_count": 14,
   "id": "3de84ae3-018a-43d5-b577-559022cef0f1",
   "metadata": {},
   "outputs": [
    {
     "name": "stdout",
     "output_type": "stream",
     "text": [
      "123,456,789,000\n"
     ]
    }
   ],
   "source": [
    "# 環視 (加入千分位)\n",
    "reg09 = r'(?<=\\d)(?=(\\d{3})+\\b)'\n",
    "ing09 = '123456789000'\n",
    "print(re.sub(reg09, ',', ing09))"
   ]
  },
  {
   "cell_type": "code",
   "execution_count": 15,
   "id": "c9f3d7a6-0a5e-46e8-938f-121fd73a2f34",
   "metadata": {},
   "outputs": [
    {
     "name": "stdout",
     "output_type": "stream",
     "text": [
      "1\n",
      "A100000001\n",
      "A100000001\n",
      "A100000001\n",
      "1\n",
      "1\n",
      "1\n"
     ]
    }
   ],
   "source": [
    "'''\n",
    "補充:\n",
    "除了 .group(n) 以外，\n",
    "還可以用 key 來代替 n。\n",
    "'''\n",
    "# 身分證字號\n",
    "reg08 = r'[A-Z](?P<gender>[12])\\d{8}'\n",
    "string08 = \"A100000001\"\n",
    "math08 = re.match(reg08, string08)\n",
    "print(math08.group('gender'))\n",
    "\n",
    "# 完整配對的文字\n",
    "print(math08[0])\n",
    "print(math08.group(0))\n",
    "print(math08.group())\n",
    "\n",
    "# 具名(類似key)所代表的值，也可以用索引代號來取得\n",
    "print(math08.group('gender'))\n",
    "print(math08['gender'])\n",
    "print(math08[1])"
   ]
  }
 ],
 "metadata": {
  "kernelspec": {
   "display_name": "web_scraping",
   "language": "python",
   "name": "python3"
  },
  "language_info": {
   "codemirror_mode": {
    "name": "ipython",
    "version": 3
   },
   "file_extension": ".py",
   "mimetype": "text/x-python",
   "name": "python",
   "nbconvert_exporter": "python",
   "pygments_lexer": "ipython3",
   "version": "3.10.14"
  }
 },
 "nbformat": 4,
 "nbformat_minor": 5
}
