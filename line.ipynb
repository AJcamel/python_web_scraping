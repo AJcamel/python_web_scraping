{
 "cells": [
  {
   "cell_type": "code",
   "execution_count": 3,
   "id": "d477e893-360c-4730-8f47-c98d41eec175",
   "metadata": {
    "scrolled": true
   },
   "outputs": [],
   "source": [
    "import requests as req\n",
    "import os, json\n",
    "from bs4 import BeautifulSoup as bs\n",
    "from pprint import pprint\n",
    "\n",
    "# 建立儲存圖片的資料夾，不存在就新增\n",
    "folderPath = 'line_stickers'\n",
    "if not os.path.exists(folderPath):\n",
    "    os.makedirs(folderPath)\n",
    "\n",
    "#放貼圖資訊用\n",
    "list_line_stickers = []\n",
    "\n",
    "# 官方 LINE 貼圖的網址\n",
    "url = 'https://store.line.me/stickershop/product/29143/zh-Hant'\n",
    "\n",
    "# 將自訂標頭加入 GET 請求中\n",
    "res = req.get(url)\n",
    "\n",
    "# 建立 soup 物件\n",
    "soup = bs(res.text, 'lxml')\n",
    "\n",
    "# 取得放置貼圖的 li 元素 (list 型態)\n",
    "li_elements = soup.select('ul.mdCMN09Ul.FnStickerList_img > li.mdCMN09Li.FnStickerPreviewItem')\n",
    "\n",
    "# 逐一取得 li 元素中的 data-preview 資訊\n",
    "for li in li_elements:\n",
    "    # 取得 data-preview 屬性的值(字串)\n",
    "    strJson = li['data-preview']\n",
    "\n",
    "    #把屬性的值(字串)轉成物件 \n",
    "    obj = json.loads(strJson)\n",
    "\n",
    "    # 將重要資訊放置在 list 當中，幫助我們稍候進行資料下載與儲存\n",
    "    list_line_stickers.append(obj)\n",
    "\n",
    "# 下載圖片\n",
    "for obj in list_line_stickers:\n",
    "    os.system (f\"curl -k {obj['animationUrl']} -o {folderPath}/{obj['id']}.png\")\n",
    "    print(f\"貼圖 ID: {obj['id']}\")"
   ]
  },
  {
   "cell_type": "code",
   "execution_count": null,
   "id": "4f755e12-3791-45ae-bba8-2fbd91266ef6",
   "metadata": {},
   "outputs": [],
   "source": []
  }
 ],
 "metadata": {
  "kernelspec": {
   "display_name": "Python3@ws",
   "language": "python",
   "name": "ws"
  },
  "language_info": {
   "codemirror_mode": {
    "name": "ipython",
    "version": 3
   },
   "file_extension": ".py",
   "mimetype": "text/x-python",
   "name": "python",
   "nbconvert_exporter": "python",
   "pygments_lexer": "ipython3",
   "version": "3.10.14"
  }
 },
 "nbformat": 4,
 "nbformat_minor": 5
}
