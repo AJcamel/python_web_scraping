{
 "cells": [
  {
   "cell_type": "code",
   "execution_count": 1,
   "id": "9c8433fb-f8c2-4f9f-aabd-ce9d37ab8514",
   "metadata": {},
   "outputs": [],
   "source": [
    "# 匯入套件\n",
    "from selenium import webdriver\n",
    "from selenium.webdriver.chrome.service import Service\n",
    "from webdriver_manager.chrome import ChromeDriverManager\n",
    "from selenium.common.exceptions import TimeoutException, NoSuchElementException\n",
    "from selenium.webdriver.support.ui import WebDriverWait\n",
    "from selenium.webdriver.support import expected_conditions as EC\n",
    "from selenium.webdriver.common.by import By\n",
    "from time import sleep"
   ]
  },
  {
   "cell_type": "code",
   "execution_count": null,
   "id": "ec01354d-039b-44f5-a9b4-36f7496b18ff",
   "metadata": {},
   "outputs": [
    {
     "name": "stdout",
     "output_type": "stream",
     "text": [
      "https://tw.buy.yahoo.com/activity/activity950?p=all2-00-171020-1111bigsaleshopping&gg=0&co_servername=ylogoimg_20241106&utm_source=yahoo&utm_medium=FPlogo&utm_campaign=20241106\n"
     ]
    }
   ],
   "source": [
    "'''\n",
    "強制等待\n",
    "'''\n",
    "# 開啟用於自動控制的瀏覽器\n",
    "driver = webdriver.Chrome()\n",
    "\n",
    "try:\n",
    "    # 最多等 5 秒\n",
    "    driver.implicitly_wait(5)\n",
    "    # 走訪網址\n",
    "    driver.get('https://tw.yahoo.com/')\n",
    "\n",
    "    # 取得元素\n",
    "    element = driver.find_element(\n",
    "        By.CSS_SELECTOR,\n",
    "        'a#header-logo'\n",
    "    )\n",
    "    # 印出超連結\n",
    "    print(element.get_attribute('href'))\n",
    "except NoSuchElementException:\n",
    "    print('找不到元素!')\n",
    "finally:\n",
    "    # 關閉瀏覽器\n",
    "    driver.quit()\n",
    "    "
   ]
  },
  {
   "cell_type": "code",
   "execution_count": null,
   "id": "d3495079-9fc3-4270-b5fd-5c98762f5ed7",
   "metadata": {},
   "outputs": [
    {
     "name": "stdout",
     "output_type": "stream",
     "text": [
      "https://www.youtube.com/\n"
     ]
    }
   ],
   "source": [
    "'''\n",
    "隱性等待\n",
    "'''\n",
    "# 開啟用於自動控制的瀏覽器\n",
    "driver = webdriver.Chrome()\n",
    "\n",
    "try:\n",
    "    # 走訪網址\n",
    "    driver.get('https://www.youtube.com/?gl=TW')\n",
    "\n",
    "    # 滿足條件（10秒內找到元素），則往下一步\n",
    "    WebDriverWait(driver, 10).until(\n",
    "        EC.presence_of_element_located(\n",
    "            (By.LINK_TEXT, '首頁')\n",
    "        )\n",
    "    )\n",
    "\n",
    "    # 印出首頁連結\n",
    "    print(driver.find_element(By.LINK_TEXT, '首頁').get_attribute('href'))\n",
    "except NoSuchElementException:\n",
    "    print('找不到元素!')\n",
    "finally:\n",
    "    # 關閉瀏覽器\n",
    "    driver.quit()\n",
    "\n"
   ]
  },
  {
   "cell_type": "code",
   "execution_count": 5,
   "id": "ef4a1452-302d-4511-9007-220188295761",
   "metadata": {},
   "outputs": [
    {
     "name": "stdout",
     "output_type": "stream",
     "text": [
      "https://www.youtube.com/\n"
     ]
    }
   ],
   "source": [
    "'''\n",
    "顯性等待\n",
    "'''\n",
    "# 開啟用於自動控制的瀏覽器\n",
    "driver = webdriver.Chrome()\n",
    "\n",
    "try:\n",
    "    # 走訪網址\n",
    "    driver.get('https://www.youtube.com/?gl=TW')\n",
    "\n",
    "    # 滿足條件（10秒內找到元素），則往下一步\n",
    "    WebDriverWait(driver, 10).until(\n",
    "        EC.presence_of_element_located(\n",
    "            (By.LINK_TEXT, '首頁')\n",
    "        )\n",
    "    )\n",
    "\n",
    "    # 印出首頁連結\n",
    "    print(driver.find_element(By.LINK_TEXT, '首頁').get_attribute('href'))\n",
    "\n",
    "except TimeoutException:\n",
    "    print('等候逾時!')\n",
    "finally:\n",
    "    # 關閉瀏覽器\n",
    "    driver.quit()"
   ]
  }
 ],
 "metadata": {
  "kernelspec": {
   "display_name": "web_scraping",
   "language": "python",
   "name": "python3"
  },
  "language_info": {
   "codemirror_mode": {
    "name": "ipython",
    "version": 3
   },
   "file_extension": ".py",
   "mimetype": "text/x-python",
   "name": "python",
   "nbconvert_exporter": "python",
   "pygments_lexer": "ipython3",
   "version": "3.10.14"
  }
 },
 "nbformat": 4,
 "nbformat_minor": 5
}
