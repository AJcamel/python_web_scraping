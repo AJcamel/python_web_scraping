{
 "cells": [
  {
   "cell_type": "code",
   "execution_count": 1,
   "id": "990f6bd4-ed6c-4de7-9c59-c3274fc2f675",
   "metadata": {},
   "outputs": [
    {
     "name": "stdout",
     "output_type": "stream",
     "text": [
      "[問卦] apt是不是很洗腦呢??\n",
      "https://www.ptt.cc/bbs/Gossiping/M.1730822664.A.B36.html\n",
      "[新聞] 台灣恐面臨「史詩級災難」！命理師警告：\n",
      "https://www.ptt.cc/bbs/Gossiping/M.1730822714.A.0A9.html\n",
      "[問卦] 逃逸外勞躲在台灣不處理，又一直放人進\n",
      "https://www.ptt.cc/bbs/Gossiping/M.1730822739.A.065.html\n",
      "Re: [問卦] 台女：台灣草食男算多嗎……\n",
      "https://www.ptt.cc/bbs/Gossiping/M.1730822748.A.8F4.html\n",
      "[新聞] 「電眼精靈」許玲玲S曲線辣到噴鼻血！尺\n",
      "https://www.ptt.cc/bbs/Gossiping/M.1730822782.A.73B.html\n",
      "[問卦] 喜美是超越牛頭牌的神車嗎？\n",
      "https://www.ptt.cc/bbs/Gossiping/M.1730822790.A.002.html\n",
      "Re: [問卦] ai影片爛跟屎一樣 有啥好吹的？\n",
      "https://www.ptt.cc/bbs/Gossiping/M.1730822990.A.2DE.html\n",
      "[問卦] 先誅少林再滅武當\n",
      "https://www.ptt.cc/bbs/Gossiping/M.1730823142.A.CB6.html\n",
      "[公告] 八卦板板規(2024.07.21)\n",
      "https://www.ptt.cc/bbs/Gossiping/M.1721519414.A.6A1.html\n",
      "Fw: [公告] Clarify板徵文(自殺防治宣導)發錢\n",
      "https://www.ptt.cc/bbs/Gossiping/M.1728397604.A.1FB.html\n",
      "[公告] 財政部 雲端發票事件公告\n",
      "https://www.ptt.cc/bbs/Gossiping/M.1730257621.A.4BE.html\n",
      "[Gossiping] 看板 選情報導\n",
      "https://www.ptt.cc/bbs/Gossiping/M.1730539161.A.8CA.html\n",
      "Fw: [公告] 請留意新註冊帳號使用信件詐騙\n",
      "https://www.ptt.cc/bbs/Gossiping/M.1730554547.A.41C.html\n"
     ]
    }
   ],
   "source": [
    "import requests as req\n",
    "from bs4 import BeautifulSoup as bs\n",
    "\n",
    "# PTT Gossiiping (八卦版)\n",
    "url = \"https://www.ptt.cc/bbs/Gossiping/index.html\"\n",
    "\n",
    "# 首頁網址\n",
    "prefix = 'https://www.ptt.cc'\n",
    "\n",
    "# 設定 cookie\n",
    "my_co = {\n",
    "    \"over18\": \"1\"\n",
    "}\n",
    "\n",
    "# 用 requests 的 get 方法把網頁抓下來\n",
    "res = req.get(url, cookies = my_co)\n",
    "\n",
    "# 指定 lxml 作為解析器\n",
    "soup = bs(res.text, \"lxml\")\n",
    "\n",
    "# 顯示連結列表\n",
    "for a in soup.select('div.r-ent > div.title > a'):\n",
    "    print(a.get_text())\n",
    "    print(prefix + a['href'])"
   ]
  }
 ],
 "metadata": {
  "kernelspec": {
   "display_name": "web_scraping",
   "language": "python",
   "name": "python3"
  },
  "language_info": {
   "codemirror_mode": {
    "name": "ipython",
    "version": 3
   },
   "file_extension": ".py",
   "mimetype": "text/x-python",
   "name": "python",
   "nbconvert_exporter": "python",
   "pygments_lexer": "ipython3",
   "version": "3.10.14"
  }
 },
 "nbformat": 4,
 "nbformat_minor": 5
}
