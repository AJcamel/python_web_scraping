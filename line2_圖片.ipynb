{
 "cells": [
  {
   "cell_type": "code",
   "execution_count": 3,
   "id": "727f96d7-5fdb-44ab-b0fb-ba73e587d8c9",
   "metadata": {},
   "outputs": [
    {
     "name": "stdout",
     "output_type": "stream",
     "text": [
      "貼圖 ID: 720220537\n",
      "貼圖 ID: 720220538\n",
      "貼圖 ID: 720220539\n",
      "貼圖 ID: 720220540\n",
      "貼圖 ID: 720220541\n",
      "貼圖 ID: 720220542\n",
      "貼圖 ID: 720220543\n",
      "貼圖 ID: 720220544\n",
      "貼圖 ID: 720220545\n",
      "貼圖 ID: 720220546\n",
      "貼圖 ID: 720220547\n",
      "貼圖 ID: 720220548\n",
      "貼圖 ID: 720220549\n",
      "貼圖 ID: 720220550\n",
      "貼圖 ID: 720220551\n",
      "貼圖 ID: 720220552\n",
      "貼圖 ID: 720220553\n",
      "貼圖 ID: 720220554\n",
      "貼圖 ID: 720220555\n",
      "貼圖 ID: 720220556\n",
      "貼圖 ID: 720220557\n",
      "貼圖 ID: 720220558\n",
      "貼圖 ID: 720220559\n",
      "貼圖 ID: 720220560\n",
      "貼圖 ID: 720220561\n",
      "貼圖 ID: 720220562\n",
      "貼圖 ID: 720220563\n",
      "貼圖 ID: 720220564\n",
      "貼圖 ID: 720220565\n",
      "貼圖 ID: 720220566\n",
      "貼圖 ID: 720220567\n",
      "貼圖 ID: 720220568\n"
     ]
    }
   ],
   "source": [
    "import requests as req\n",
    "import os, json\n",
    "from bs4 import BeautifulSoup as bs\n",
    "from pprint import pprint\n",
    "\n",
    "# 建立儲存圖片的資料夾，不存在就新增\n",
    "folderPath = 'line_stickers'\n",
    "if not os.path.exists(folderPath):\n",
    "    os.makedirs(folderPath)\n",
    "\n",
    "#放貼圖資訊用\n",
    "list_line_stickers = []\n",
    "\n",
    "# 官方 LINE 貼圖的網址\n",
    "url = 'https://store.line.me/stickershop/product/28429636/zh-Hant'\n",
    "\n",
    "# 將自訂標頭加入 GET 請求中\n",
    "res = req.get(url)\n",
    "\n",
    "# 建立 soup 物件\n",
    "soup = bs(res.text, 'lxml')\n",
    "\n",
    "# 取得放置貼圖的 li 元素 (list 型態)\n",
    "li_elements = soup.select('ul.mdCMN09Ul.FnStickerList > li.mdCMN09Li.FnStickerPreviewItem.static-sticker')\n",
    "\n",
    "# 逐一取得 li 元素中的 data-preview 資訊\n",
    "for li in li_elements:\n",
    "    # 取得 data-preview 屬性的值(字串)\n",
    "    strJson = li['data-preview']\n",
    "\n",
    "    #把屬性的值(字串)轉成物件 \n",
    "    obj = json.loads(strJson)\n",
    "\n",
    "    # 將重要資訊放置在 list 當中，幫助我們稍候進行資料下載與儲存\n",
    "    list_line_stickers.append(obj)\n",
    "\n",
    "# 下載圖片\n",
    "for obj in list_line_stickers:\n",
    "    os.system (f\"curl -k {obj['staticUrl']} -o {folderPath}/{obj['id']}.png\")\n",
    "    print(f\"貼圖 ID: {obj['id']}\")"
   ]
  },
  {
   "cell_type": "code",
   "execution_count": null,
   "id": "70b7407a-fa18-4f81-b029-b75ad6819021",
   "metadata": {},
   "outputs": [],
   "source": []
  }
 ],
 "metadata": {
  "kernelspec": {
   "display_name": "Python3@ws",
   "language": "python",
   "name": "ws"
  },
  "language_info": {
   "codemirror_mode": {
    "name": "ipython",
    "version": 3
   },
   "file_extension": ".py",
   "mimetype": "text/x-python",
   "name": "python",
   "nbconvert_exporter": "python",
   "pygments_lexer": "ipython3",
   "version": "3.10.14"
  }
 },
 "nbformat": 4,
 "nbformat_minor": 5
}
